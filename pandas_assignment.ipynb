{
  "cells": [
    {
      "cell_type": "markdown",
      "id": "d7a4d6ac",
      "metadata": {
        "id": "d7a4d6ac"
      },
      "source": [
        "# Основы машинного обучения: лабораторная работа №1\n",
        "## Задание 3. Знакомство с Pandas\n",
        "\n",
        "В этом задании необходимо научиться базовым приемам работы с данными. Необходимо загрузить заданный по варианту датасет, провести разведочный анализ данных, сформулировать гипотезы о возможном значении всех полей в датасете, проверить эти гипотезы, и ответить на вопросы по данным. <!-- Если в конкретном задании не указано иное, проводить очистку данных (удаление пустых и невалидных значений) не нужно. -->\n",
        "\n",
        "### Цель\n",
        "\n",
        "Знакомство с разведочным анализом данных и применение Pandas для извлечения информации\n",
        "\n",
        "### Оценивание и баллы\n",
        "\n",
        "За это задание в общей сложности можно получить до 4 баллов. Задание частично проверяется автоматически, а частично будет оцениваться вручную. Чтобы получить максимальный балл,  необходимо успешно выполнить приведенные ниже задачи.\n",
        "\n",
        "## Важные замечания\n",
        "\n",
        "1. *Откройте этот файл в своем репозитории на GitHub и скопируйте адрес из адресной строки браузера. Перейдите в [Google Colab](https://colab.research.google.com/), выберите `Файл -> Открыть ноутбук -> GitHub`, вставьте скопированный URL и нажмите кнопку поиска (кнопка с лупой справа от поля ввода строки для поиска). В Google Colab откроется копия этого ноутбука из персонального репозитория на GitHub.*\n",
        "2. *Не удаляйте и не изменяйте имена переменных в ячейках с кодом ниже. Можно добавлять в каждую ячейку произвольное количество строк кода, главное - сохранить результат решения задачи в предопределенную (-ые) переменную (-ые) в соответствующей ячейке. Если этого не сделать, автоматические тесты не будут пройдены.*\n",
        "3. *Чтобы сохранить работу, выберите `Файл -> Сохранить копию на GitHub` и __вручную выберите правильный репозиторий из раскрывающегося списка__.*\n",
        "4. *Если в процессе выполнения задания этот файл окажется испорчен, ознакомьтесь с инструкцией в ноутбуке [jupyter_assignment](jupyter_assignment.ipynb), раздел \"Повторная сдача\".*  \n"
      ]
    },
    {
      "cell_type": "markdown",
      "id": "caf9d03d",
      "metadata": {
        "id": "caf9d03d"
      },
      "source": [
        "#### Задачи\n",
        "\n",
        "#### 1. Определить номер варианта\n",
        "Перейдите по ссылке из личного кабинета на Google Таблицу со списком студентов. Найдите свое ФИО в списке и запомните соответствующий порядковый номер (поле № п/п) в первом столбце. Заполните его в ячейке ниже и выполните ячейку. Если вы не можете найти себя в списке, обратитесь к своему преподавателю."
      ]
    },
    {
      "cell_type": "code",
      "execution_count": 2,
      "id": "1e5cdd43",
      "metadata": {
        "id": "1e5cdd43"
      },
      "outputs": [],
      "source": [
        "### BEGIN YOUR CODE\n",
        "\n",
        "Student_ID = 3\n",
        "\n",
        "### END YOUR CODE"
      ]
    },
    {
      "cell_type": "markdown",
      "id": "62528c2d",
      "metadata": {
        "id": "62528c2d"
      },
      "source": [
        "Теперь выполните следующую ячейку. Она вычислит номер задания и выведет его."
      ]
    },
    {
      "cell_type": "code",
      "execution_count": 3,
      "id": "d6776709",
      "metadata": {
        "id": "d6776709",
        "outputId": "6adf0209-10f9-49d8-babf-c613cbe85e33",
        "colab": {
          "base_uri": "https://localhost:8080/",
          "height": 0
        }
      },
      "outputs": [
        {
          "output_type": "stream",
          "name": "stdout",
          "text": [
            "Датасет 'Chipotle' доступен по следующей ссылке: https://raw.githubusercontent.com/justmarkham/DAT8/master/data/chipotle.tsv\n",
            "В заданиях ниже, где нужно выбрать вопрос, всегда выбирайте вопрос № 1\n"
          ]
        }
      ],
      "source": [
        "datasets = [('Chipotle','https://raw.githubusercontent.com/justmarkham/DAT8/master/data/chipotle.tsv'), ('US Air Carrier market in 2019','https://raw.githubusercontent.com/markpolyak/datasets/refs/heads/main/data/aircarrier_market_us_2019.zip'), ('Open Food Facts', 'https://raw.githubusercontent.com/markpolyak/datasets/refs/heads/main/data/en.openfoodfacts.org.products.tsv.tar.bz2')]\n",
        "\n",
        "dataset_id = None if Student_ID is None else Student_ID % len(datasets)\n",
        "if dataset_id is None:\n",
        "    print(\"ОШИБКА! Не указан порядковый номер студента в списке группы.\")\n",
        "else:\n",
        "    print(f\"Датасет '{datasets[dataset_id][0]}' доступен по следующей ссылке: {datasets[dataset_id][1]}\")\n",
        "    print(f\"В заданиях ниже, где нужно выбрать вопрос, всегда выбирайте вопрос № {dataset_id+1}\")"
      ]
    },
    {
      "cell_type": "markdown",
      "id": "d4790a3a",
      "metadata": {
        "id": "d4790a3a"
      },
      "source": [
        "Скачайте датасет с помощью команды `!wget <dataset_url>`, где `<dataset_url>` необходимо заменить на ссылку на датасет, появившуюся после выполнения предыдущей ячейки. При необходимости разархивируйте датасет, используя команды `!unzip`, `!tar` и др.\n",
        "\n",
        "*Примечание: в Jupyter-ноутбуке можно использовать любые команды командного интерпретатора bash. Для этого необходимо поставить в ячейке с кодом восклицательный знак `!`, после которого записать команду bash со всеми необходимыми аргументами. Результат выполнения этой команды bash будет возвращен в Jupyter и его можно использовать в коде на Python.*"
      ]
    },
    {
      "cell_type": "code",
      "execution_count": 2,
      "id": "a2d0062c",
      "metadata": {
        "id": "a2d0062c",
        "outputId": "d3999aa5-4a94-4688-ebf7-53c924c8f991",
        "colab": {
          "base_uri": "https://localhost:8080/",
          "height": 0
        }
      },
      "outputs": [
        {
          "output_type": "stream",
          "name": "stdout",
          "text": [
            "--2025-05-06 19:33:59--  https://raw.githubusercontent.com/justmarkham/DAT8/master/data/chipotle.tsv\n",
            "Resolving raw.githubusercontent.com (raw.githubusercontent.com)... 185.199.108.133, 185.199.109.133, 185.199.111.133, ...\n",
            "Connecting to raw.githubusercontent.com (raw.githubusercontent.com)|185.199.108.133|:443... connected.\n",
            "HTTP request sent, awaiting response... 200 OK\n",
            "Length: 364975 (356K) [text/plain]\n",
            "Saving to: ‘chipotle.tsv’\n",
            "\n",
            "chipotle.tsv        100%[===================>] 356.42K  --.-KB/s    in 0.06s   \n",
            "\n",
            "2025-05-06 19:33:59 (5.86 MB/s) - ‘chipotle.tsv’ saved [364975/364975]\n",
            "\n"
          ]
        }
      ],
      "source": [
        "### BEGIN YOUR CODE\n",
        "\n",
        "!wget https://raw.githubusercontent.com/justmarkham/DAT8/master/data/chipotle.tsv\n",
        "\n",
        "# !unzip ...\n",
        "# !tar ...\n",
        "# !gunzip ...\n",
        "\n",
        "### END YOUR CODE"
      ]
    },
    {
      "cell_type": "markdown",
      "id": "7a03771c",
      "metadata": {
        "id": "7a03771c"
      },
      "source": [
        "##### 2. Загрузите датасет в pandas.DataFrame, сохраните его в переменной `df`. Cконвертируйте названия столбцов в нижний регистр"
      ]
    },
    {
      "cell_type": "code",
      "execution_count": 3,
      "id": "8940fc17",
      "metadata": {
        "id": "8940fc17",
        "outputId": "ad1a5bfd-99dd-4a86-8414-2a93216afe4e",
        "colab": {
          "base_uri": "https://localhost:8080/",
          "height": 423
        }
      },
      "outputs": [
        {
          "output_type": "execute_result",
          "data": {
            "text/plain": [
              "      order_id  quantity                              item_name  \\\n",
              "0            1         1           Chips and Fresh Tomato Salsa   \n",
              "1            1         1                                   Izze   \n",
              "2            1         1                       Nantucket Nectar   \n",
              "3            1         1  Chips and Tomatillo-Green Chili Salsa   \n",
              "4            2         2                           Chicken Bowl   \n",
              "...        ...       ...                                    ...   \n",
              "4617      1833         1                          Steak Burrito   \n",
              "4618      1833         1                          Steak Burrito   \n",
              "4619      1834         1                     Chicken Salad Bowl   \n",
              "4620      1834         1                     Chicken Salad Bowl   \n",
              "4621      1834         1                     Chicken Salad Bowl   \n",
              "\n",
              "                                     choice_description item_price  \n",
              "0                                                   NaN     $2.39   \n",
              "1                                          [Clementine]     $3.39   \n",
              "2                                               [Apple]     $3.39   \n",
              "3                                                   NaN     $2.39   \n",
              "4     [Tomatillo-Red Chili Salsa (Hot), [Black Beans...    $16.98   \n",
              "...                                                 ...        ...  \n",
              "4617  [Fresh Tomato Salsa, [Rice, Black Beans, Sour ...    $11.75   \n",
              "4618  [Fresh Tomato Salsa, [Rice, Sour Cream, Cheese...    $11.75   \n",
              "4619  [Fresh Tomato Salsa, [Fajita Vegetables, Pinto...    $11.25   \n",
              "4620  [Fresh Tomato Salsa, [Fajita Vegetables, Lettu...     $8.75   \n",
              "4621  [Fresh Tomato Salsa, [Fajita Vegetables, Pinto...     $8.75   \n",
              "\n",
              "[4622 rows x 5 columns]"
            ],
            "text/html": [
              "\n",
              "  <div id=\"df-f5bdae83-3507-40bb-afb9-12e1dccd5c0a\" class=\"colab-df-container\">\n",
              "    <div>\n",
              "<style scoped>\n",
              "    .dataframe tbody tr th:only-of-type {\n",
              "        vertical-align: middle;\n",
              "    }\n",
              "\n",
              "    .dataframe tbody tr th {\n",
              "        vertical-align: top;\n",
              "    }\n",
              "\n",
              "    .dataframe thead th {\n",
              "        text-align: right;\n",
              "    }\n",
              "</style>\n",
              "<table border=\"1\" class=\"dataframe\">\n",
              "  <thead>\n",
              "    <tr style=\"text-align: right;\">\n",
              "      <th></th>\n",
              "      <th>order_id</th>\n",
              "      <th>quantity</th>\n",
              "      <th>item_name</th>\n",
              "      <th>choice_description</th>\n",
              "      <th>item_price</th>\n",
              "    </tr>\n",
              "  </thead>\n",
              "  <tbody>\n",
              "    <tr>\n",
              "      <th>0</th>\n",
              "      <td>1</td>\n",
              "      <td>1</td>\n",
              "      <td>Chips and Fresh Tomato Salsa</td>\n",
              "      <td>NaN</td>\n",
              "      <td>$2.39</td>\n",
              "    </tr>\n",
              "    <tr>\n",
              "      <th>1</th>\n",
              "      <td>1</td>\n",
              "      <td>1</td>\n",
              "      <td>Izze</td>\n",
              "      <td>[Clementine]</td>\n",
              "      <td>$3.39</td>\n",
              "    </tr>\n",
              "    <tr>\n",
              "      <th>2</th>\n",
              "      <td>1</td>\n",
              "      <td>1</td>\n",
              "      <td>Nantucket Nectar</td>\n",
              "      <td>[Apple]</td>\n",
              "      <td>$3.39</td>\n",
              "    </tr>\n",
              "    <tr>\n",
              "      <th>3</th>\n",
              "      <td>1</td>\n",
              "      <td>1</td>\n",
              "      <td>Chips and Tomatillo-Green Chili Salsa</td>\n",
              "      <td>NaN</td>\n",
              "      <td>$2.39</td>\n",
              "    </tr>\n",
              "    <tr>\n",
              "      <th>4</th>\n",
              "      <td>2</td>\n",
              "      <td>2</td>\n",
              "      <td>Chicken Bowl</td>\n",
              "      <td>[Tomatillo-Red Chili Salsa (Hot), [Black Beans...</td>\n",
              "      <td>$16.98</td>\n",
              "    </tr>\n",
              "    <tr>\n",
              "      <th>...</th>\n",
              "      <td>...</td>\n",
              "      <td>...</td>\n",
              "      <td>...</td>\n",
              "      <td>...</td>\n",
              "      <td>...</td>\n",
              "    </tr>\n",
              "    <tr>\n",
              "      <th>4617</th>\n",
              "      <td>1833</td>\n",
              "      <td>1</td>\n",
              "      <td>Steak Burrito</td>\n",
              "      <td>[Fresh Tomato Salsa, [Rice, Black Beans, Sour ...</td>\n",
              "      <td>$11.75</td>\n",
              "    </tr>\n",
              "    <tr>\n",
              "      <th>4618</th>\n",
              "      <td>1833</td>\n",
              "      <td>1</td>\n",
              "      <td>Steak Burrito</td>\n",
              "      <td>[Fresh Tomato Salsa, [Rice, Sour Cream, Cheese...</td>\n",
              "      <td>$11.75</td>\n",
              "    </tr>\n",
              "    <tr>\n",
              "      <th>4619</th>\n",
              "      <td>1834</td>\n",
              "      <td>1</td>\n",
              "      <td>Chicken Salad Bowl</td>\n",
              "      <td>[Fresh Tomato Salsa, [Fajita Vegetables, Pinto...</td>\n",
              "      <td>$11.25</td>\n",
              "    </tr>\n",
              "    <tr>\n",
              "      <th>4620</th>\n",
              "      <td>1834</td>\n",
              "      <td>1</td>\n",
              "      <td>Chicken Salad Bowl</td>\n",
              "      <td>[Fresh Tomato Salsa, [Fajita Vegetables, Lettu...</td>\n",
              "      <td>$8.75</td>\n",
              "    </tr>\n",
              "    <tr>\n",
              "      <th>4621</th>\n",
              "      <td>1834</td>\n",
              "      <td>1</td>\n",
              "      <td>Chicken Salad Bowl</td>\n",
              "      <td>[Fresh Tomato Salsa, [Fajita Vegetables, Pinto...</td>\n",
              "      <td>$8.75</td>\n",
              "    </tr>\n",
              "  </tbody>\n",
              "</table>\n",
              "<p>4622 rows × 5 columns</p>\n",
              "</div>\n",
              "    <div class=\"colab-df-buttons\">\n",
              "\n",
              "  <div class=\"colab-df-container\">\n",
              "    <button class=\"colab-df-convert\" onclick=\"convertToInteractive('df-f5bdae83-3507-40bb-afb9-12e1dccd5c0a')\"\n",
              "            title=\"Convert this dataframe to an interactive table.\"\n",
              "            style=\"display:none;\">\n",
              "\n",
              "  <svg xmlns=\"http://www.w3.org/2000/svg\" height=\"24px\" viewBox=\"0 -960 960 960\">\n",
              "    <path d=\"M120-120v-720h720v720H120Zm60-500h600v-160H180v160Zm220 220h160v-160H400v160Zm0 220h160v-160H400v160ZM180-400h160v-160H180v160Zm440 0h160v-160H620v160ZM180-180h160v-160H180v160Zm440 0h160v-160H620v160Z\"/>\n",
              "  </svg>\n",
              "    </button>\n",
              "\n",
              "  <style>\n",
              "    .colab-df-container {\n",
              "      display:flex;\n",
              "      gap: 12px;\n",
              "    }\n",
              "\n",
              "    .colab-df-convert {\n",
              "      background-color: #E8F0FE;\n",
              "      border: none;\n",
              "      border-radius: 50%;\n",
              "      cursor: pointer;\n",
              "      display: none;\n",
              "      fill: #1967D2;\n",
              "      height: 32px;\n",
              "      padding: 0 0 0 0;\n",
              "      width: 32px;\n",
              "    }\n",
              "\n",
              "    .colab-df-convert:hover {\n",
              "      background-color: #E2EBFA;\n",
              "      box-shadow: 0px 1px 2px rgba(60, 64, 67, 0.3), 0px 1px 3px 1px rgba(60, 64, 67, 0.15);\n",
              "      fill: #174EA6;\n",
              "    }\n",
              "\n",
              "    .colab-df-buttons div {\n",
              "      margin-bottom: 4px;\n",
              "    }\n",
              "\n",
              "    [theme=dark] .colab-df-convert {\n",
              "      background-color: #3B4455;\n",
              "      fill: #D2E3FC;\n",
              "    }\n",
              "\n",
              "    [theme=dark] .colab-df-convert:hover {\n",
              "      background-color: #434B5C;\n",
              "      box-shadow: 0px 1px 3px 1px rgba(0, 0, 0, 0.15);\n",
              "      filter: drop-shadow(0px 1px 2px rgba(0, 0, 0, 0.3));\n",
              "      fill: #FFFFFF;\n",
              "    }\n",
              "  </style>\n",
              "\n",
              "    <script>\n",
              "      const buttonEl =\n",
              "        document.querySelector('#df-f5bdae83-3507-40bb-afb9-12e1dccd5c0a button.colab-df-convert');\n",
              "      buttonEl.style.display =\n",
              "        google.colab.kernel.accessAllowed ? 'block' : 'none';\n",
              "\n",
              "      async function convertToInteractive(key) {\n",
              "        const element = document.querySelector('#df-f5bdae83-3507-40bb-afb9-12e1dccd5c0a');\n",
              "        const dataTable =\n",
              "          await google.colab.kernel.invokeFunction('convertToInteractive',\n",
              "                                                    [key], {});\n",
              "        if (!dataTable) return;\n",
              "\n",
              "        const docLinkHtml = 'Like what you see? Visit the ' +\n",
              "          '<a target=\"_blank\" href=https://colab.research.google.com/notebooks/data_table.ipynb>data table notebook</a>'\n",
              "          + ' to learn more about interactive tables.';\n",
              "        element.innerHTML = '';\n",
              "        dataTable['output_type'] = 'display_data';\n",
              "        await google.colab.output.renderOutput(dataTable, element);\n",
              "        const docLink = document.createElement('div');\n",
              "        docLink.innerHTML = docLinkHtml;\n",
              "        element.appendChild(docLink);\n",
              "      }\n",
              "    </script>\n",
              "  </div>\n",
              "\n",
              "\n",
              "    <div id=\"df-85701a12-e500-42ff-8305-bffcc590b312\">\n",
              "      <button class=\"colab-df-quickchart\" onclick=\"quickchart('df-85701a12-e500-42ff-8305-bffcc590b312')\"\n",
              "                title=\"Suggest charts\"\n",
              "                style=\"display:none;\">\n",
              "\n",
              "<svg xmlns=\"http://www.w3.org/2000/svg\" height=\"24px\"viewBox=\"0 0 24 24\"\n",
              "     width=\"24px\">\n",
              "    <g>\n",
              "        <path d=\"M19 3H5c-1.1 0-2 .9-2 2v14c0 1.1.9 2 2 2h14c1.1 0 2-.9 2-2V5c0-1.1-.9-2-2-2zM9 17H7v-7h2v7zm4 0h-2V7h2v10zm4 0h-2v-4h2v4z\"/>\n",
              "    </g>\n",
              "</svg>\n",
              "      </button>\n",
              "\n",
              "<style>\n",
              "  .colab-df-quickchart {\n",
              "      --bg-color: #E8F0FE;\n",
              "      --fill-color: #1967D2;\n",
              "      --hover-bg-color: #E2EBFA;\n",
              "      --hover-fill-color: #174EA6;\n",
              "      --disabled-fill-color: #AAA;\n",
              "      --disabled-bg-color: #DDD;\n",
              "  }\n",
              "\n",
              "  [theme=dark] .colab-df-quickchart {\n",
              "      --bg-color: #3B4455;\n",
              "      --fill-color: #D2E3FC;\n",
              "      --hover-bg-color: #434B5C;\n",
              "      --hover-fill-color: #FFFFFF;\n",
              "      --disabled-bg-color: #3B4455;\n",
              "      --disabled-fill-color: #666;\n",
              "  }\n",
              "\n",
              "  .colab-df-quickchart {\n",
              "    background-color: var(--bg-color);\n",
              "    border: none;\n",
              "    border-radius: 50%;\n",
              "    cursor: pointer;\n",
              "    display: none;\n",
              "    fill: var(--fill-color);\n",
              "    height: 32px;\n",
              "    padding: 0;\n",
              "    width: 32px;\n",
              "  }\n",
              "\n",
              "  .colab-df-quickchart:hover {\n",
              "    background-color: var(--hover-bg-color);\n",
              "    box-shadow: 0 1px 2px rgba(60, 64, 67, 0.3), 0 1px 3px 1px rgba(60, 64, 67, 0.15);\n",
              "    fill: var(--button-hover-fill-color);\n",
              "  }\n",
              "\n",
              "  .colab-df-quickchart-complete:disabled,\n",
              "  .colab-df-quickchart-complete:disabled:hover {\n",
              "    background-color: var(--disabled-bg-color);\n",
              "    fill: var(--disabled-fill-color);\n",
              "    box-shadow: none;\n",
              "  }\n",
              "\n",
              "  .colab-df-spinner {\n",
              "    border: 2px solid var(--fill-color);\n",
              "    border-color: transparent;\n",
              "    border-bottom-color: var(--fill-color);\n",
              "    animation:\n",
              "      spin 1s steps(1) infinite;\n",
              "  }\n",
              "\n",
              "  @keyframes spin {\n",
              "    0% {\n",
              "      border-color: transparent;\n",
              "      border-bottom-color: var(--fill-color);\n",
              "      border-left-color: var(--fill-color);\n",
              "    }\n",
              "    20% {\n",
              "      border-color: transparent;\n",
              "      border-left-color: var(--fill-color);\n",
              "      border-top-color: var(--fill-color);\n",
              "    }\n",
              "    30% {\n",
              "      border-color: transparent;\n",
              "      border-left-color: var(--fill-color);\n",
              "      border-top-color: var(--fill-color);\n",
              "      border-right-color: var(--fill-color);\n",
              "    }\n",
              "    40% {\n",
              "      border-color: transparent;\n",
              "      border-right-color: var(--fill-color);\n",
              "      border-top-color: var(--fill-color);\n",
              "    }\n",
              "    60% {\n",
              "      border-color: transparent;\n",
              "      border-right-color: var(--fill-color);\n",
              "    }\n",
              "    80% {\n",
              "      border-color: transparent;\n",
              "      border-right-color: var(--fill-color);\n",
              "      border-bottom-color: var(--fill-color);\n",
              "    }\n",
              "    90% {\n",
              "      border-color: transparent;\n",
              "      border-bottom-color: var(--fill-color);\n",
              "    }\n",
              "  }\n",
              "</style>\n",
              "\n",
              "      <script>\n",
              "        async function quickchart(key) {\n",
              "          const quickchartButtonEl =\n",
              "            document.querySelector('#' + key + ' button');\n",
              "          quickchartButtonEl.disabled = true;  // To prevent multiple clicks.\n",
              "          quickchartButtonEl.classList.add('colab-df-spinner');\n",
              "          try {\n",
              "            const charts = await google.colab.kernel.invokeFunction(\n",
              "                'suggestCharts', [key], {});\n",
              "          } catch (error) {\n",
              "            console.error('Error during call to suggestCharts:', error);\n",
              "          }\n",
              "          quickchartButtonEl.classList.remove('colab-df-spinner');\n",
              "          quickchartButtonEl.classList.add('colab-df-quickchart-complete');\n",
              "        }\n",
              "        (() => {\n",
              "          let quickchartButtonEl =\n",
              "            document.querySelector('#df-85701a12-e500-42ff-8305-bffcc590b312 button');\n",
              "          quickchartButtonEl.style.display =\n",
              "            google.colab.kernel.accessAllowed ? 'block' : 'none';\n",
              "        })();\n",
              "      </script>\n",
              "    </div>\n",
              "    </div>\n",
              "  </div>\n"
            ],
            "application/vnd.google.colaboratory.intrinsic+json": {
              "type": "dataframe",
              "variable_name": "df",
              "summary": "{\n  \"name\": \"df\",\n  \"rows\": 4622,\n  \"fields\": [\n    {\n      \"column\": \"order_id\",\n      \"properties\": {\n        \"dtype\": \"number\",\n        \"std\": 528,\n        \"min\": 1,\n        \"max\": 1834,\n        \"num_unique_values\": 1834,\n        \"samples\": [\n          644,\n          333,\n          991\n        ],\n        \"semantic_type\": \"\",\n        \"description\": \"\"\n      }\n    },\n    {\n      \"column\": \"quantity\",\n      \"properties\": {\n        \"dtype\": \"number\",\n        \"std\": 0,\n        \"min\": 1,\n        \"max\": 15,\n        \"num_unique_values\": 9,\n        \"samples\": [\n          8,\n          2,\n          15\n        ],\n        \"semantic_type\": \"\",\n        \"description\": \"\"\n      }\n    },\n    {\n      \"column\": \"item_name\",\n      \"properties\": {\n        \"dtype\": \"category\",\n        \"num_unique_values\": 50,\n        \"samples\": [\n          \"Barbacoa Burrito\",\n          \"Crispy Tacos\",\n          \"Chips and Roasted Chili Corn Salsa\"\n        ],\n        \"semantic_type\": \"\",\n        \"description\": \"\"\n      }\n    },\n    {\n      \"column\": \"choice_description\",\n      \"properties\": {\n        \"dtype\": \"category\",\n        \"num_unique_values\": 1043,\n        \"samples\": [\n          \"[Roasted Chili Corn Salsa, [Black Beans, Sour Cream, Cheese, Guacamole]]\",\n          \"[Tomatillo Red Chili Salsa, [Guacamole, Cheese]]\",\n          \"[Fresh Tomato Salsa, [Rice, Cheese, Sour Cream, Guacamole, Lettuce]]\"\n        ],\n        \"semantic_type\": \"\",\n        \"description\": \"\"\n      }\n    },\n    {\n      \"column\": \"item_price\",\n      \"properties\": {\n        \"dtype\": \"category\",\n        \"num_unique_values\": 78,\n        \"samples\": [\n          \"$23.50 \",\n          \"$2.39 \",\n          \"$7.40 \"\n        ],\n        \"semantic_type\": \"\",\n        \"description\": \"\"\n      }\n    }\n  ]\n}"
            }
          },
          "metadata": {},
          "execution_count": 3
        }
      ],
      "source": [
        "import pandas as pd\n",
        "\n",
        "df = pd.read_table('chipotle.tsv')\n",
        "\n",
        "for c in df.columns:\n",
        "  df.rename(columns={c: c.lower()})\n",
        "\n",
        "df\n",
        "\n",
        "# Place your code to read the dataset here. Don't forget to import all the libraries you need!"
      ]
    },
    {
      "cell_type": "markdown",
      "id": "bf7dc696",
      "metadata": {
        "id": "bf7dc696"
      },
      "source": [
        "##### 3. Какие столбцы присутствуют в наборе данных? (0.1 балла)"
      ]
    },
    {
      "cell_type": "code",
      "execution_count": 16,
      "id": "190bb44f",
      "metadata": {
        "id": "190bb44f",
        "outputId": "a84dc286-ba2c-487c-d1db-3a05a18b56c4",
        "colab": {
          "base_uri": "https://localhost:8080/",
          "height": 0
        }
      },
      "outputs": [
        {
          "output_type": "stream",
          "name": "stdout",
          "text": [
            "['order_id', 'quantity', 'item_name', 'choice_description', 'item_price']\n"
          ]
        }
      ],
      "source": [
        "columns = list(df.columns) # Place your code here instead of '...'\n",
        "\n",
        "print(columns)"
      ]
    },
    {
      "cell_type": "markdown",
      "id": "e693a9b0",
      "metadata": {
        "id": "e693a9b0"
      },
      "source": [
        "##### 4. Ответьте на вопрос и сохраните ответ в переменной `answer1` (0.1 балла)\n",
        "\n",
        "Вопросы:\n",
        "1. Какое блюдо (`item_name`) заказывали чаще всего?\n",
        "2. Сколько авиаперевозчиков (`carrier`) представлены в датасете?\n",
        "3. По скольким продуктам в датасете имеется информация о содержании аллергенов (`allergens`)?"
      ]
    },
    {
      "cell_type": "code",
      "execution_count": 29,
      "id": "b1615597",
      "metadata": {
        "id": "b1615597",
        "outputId": "fae43bc0-9625-44df-b5b1-26b036347108",
        "colab": {
          "base_uri": "https://localhost:8080/",
          "height": 0
        }
      },
      "outputs": [
        {
          "output_type": "stream",
          "name": "stdout",
          "text": [
            "Chicken Bowl\n"
          ]
        }
      ],
      "source": [
        "most_popular = df['item_name'].mode()[0]\n",
        "\n",
        "answer1 = most_popular\n",
        "\n",
        "print(answer1)"
      ]
    },
    {
      "cell_type": "markdown",
      "id": "e5e4a54b",
      "metadata": {
        "id": "e5e4a54b"
      },
      "source": [
        "##### 5. Ответьте на вопрос и сохраните ответ в переменной `answer2` (0.1 балла)\n",
        "\n",
        "Вопросы:\n",
        "1. Сколько всего было заказов блюда, название которого сохранено в `answer1`?\n",
        "2. Посчитайте общие суммарные количества перевезенных пассажиров (`passengers`), фунтов груза (`freight`) и почты (`mail`) на маршруте из Великобритании (GB) в США (US). В `answer2` запишите максимальное из трех получившихся чисел.\n",
        "3. Сколько всего продуктов, относящихся к категории \"молочные\" (`Dairies,Milks`), с заполненным названием?"
      ]
    },
    {
      "cell_type": "code",
      "execution_count": 74,
      "id": "5e576703",
      "metadata": {
        "id": "5e576703",
        "outputId": "85a44f22-c382-46da-dabf-fdb108ff1d2d",
        "colab": {
          "base_uri": "https://localhost:8080/",
          "height": 0
        }
      },
      "outputs": [
        {
          "output_type": "stream",
          "name": "stdout",
          "text": [
            "726\n"
          ]
        }
      ],
      "source": [
        "answer2 = df['item_name'].value_counts()[answer1]\n",
        "\n",
        "print(answer2)"
      ]
    },
    {
      "cell_type": "markdown",
      "id": "f28dfff0",
      "metadata": {
        "id": "f28dfff0"
      },
      "source": [
        "##### 6. Ответьте на вопрос и сохраните ответ в переменной `answer3` (0.2 балла)\n",
        "\n",
        "Вопросы:\n",
        "1. Какой доход получила сеть Chipotle Mexican Grill на заказах, попавших в датасет?\n",
        "2. Какой авиаперевозчик (`unique_carrier_name`) перевез больше всего груза (`mail` + `freight`)?\n",
        "3. Как называется продукт категории `Fats` с максимальной жирностью, не превышающей 30 г на 100 г продукта?"
      ]
    },
    {
      "cell_type": "code",
      "execution_count": 39,
      "id": "0618e3db",
      "metadata": {
        "id": "0618e3db",
        "outputId": "1fd26594-43fd-496a-f126-61931ce3d551",
        "colab": {
          "base_uri": "https://localhost:8080/",
          "height": 0
        }
      },
      "outputs": [
        {
          "output_type": "stream",
          "name": "stdout",
          "text": [
            "34500.16\n"
          ]
        }
      ],
      "source": [
        "sum = df.apply(lambda row: float(row.item_price[1:]), axis=1).sum()\n",
        "\n",
        "answer3 = sum\n",
        "\n",
        "print(answer3)"
      ]
    },
    {
      "cell_type": "markdown",
      "id": "3924c56d",
      "metadata": {
        "id": "3924c56d"
      },
      "source": [
        "##### 7. Ответьте на вопрос и сохраните ответ в переменной `answer4` (0.25 балла)\n",
        "\n",
        "Вопросы:\n",
        "1. Каков средний доход с одного заказа?\n",
        "2. Какое максимальное количество пассажиров одна авиакомпания смогла перевезти из США в другие страны за все время?\n",
        "3. Какова энергетическая ценность в кДж продукта из России (`countries_en`) имеющего максимальное содержание холестерина?"
      ]
    },
    {
      "cell_type": "code",
      "execution_count": 60,
      "id": "bea51b74",
      "metadata": {
        "id": "bea51b74",
        "outputId": "e69deb10-7df4-4421-d312-a31942401642",
        "colab": {
          "base_uri": "https://localhost:8080/",
          "height": 0
        }
      },
      "outputs": [
        {
          "output_type": "stream",
          "name": "stdout",
          "text": [
            "21.39423118865867\n"
          ]
        }
      ],
      "source": [
        "# Общий доход разделить на кол-во заказов\n",
        "answer4 = answer3 / df['order_id'].nunique()\n",
        "\n",
        "print(answer4)"
      ]
    },
    {
      "cell_type": "markdown",
      "id": "5d00d132",
      "metadata": {
        "id": "5d00d132"
      },
      "source": [
        "##### 8. Ответьте на вопрос и сохраните ответ в переменной `answer5` (0.25 балл)\n",
        "\n",
        "Вопросы:\n",
        "1. Сколько раз был заказан самый популярный напиток (Coke, Sprite, Mountain Dew и т.п.)?\n",
        "2. Между какими двумя городами было перевезено наибольшее количество пассажиров? Учтите оба направления. Ответ запишите в виде списка из двух строк.\n",
        "3. Приведите названия всех аллергенов к нижнему регистру. Какой аллерген встречается в продуктах чаще всего?"
      ]
    },
    {
      "cell_type": "code",
      "execution_count": 38,
      "id": "773f3787",
      "metadata": {
        "id": "773f3787",
        "outputId": "a9cd5a2f-7a1b-4a86-ec0c-e482432eddcf",
        "colab": {
          "base_uri": "https://localhost:8080/",
          "height": 0
        }
      },
      "outputs": [
        {
          "output_type": "stream",
          "name": "stdout",
          "text": [
            "['Sprite' 'Dr. Pepper' 'Mountain Dew' 'Diet Dr. Pepper' 'Coca Cola'\n",
            " 'Diet Coke' 'Coke' 'Lemonade' 'Nestea']\n",
            "Diet Coke\n",
            "sum    326.71\n",
            "dtype: float64\n"
          ]
        }
      ],
      "source": [
        "# df.item_name.unique()\n",
        "\n",
        "drinks = df[(df.item_name == 'Canned Soda') | (df.item_name == 'Canned Soft Drink') | (df.item_name == '6 Pack Soft Drink')]\n",
        "\n",
        "drinks.loc[:, ['drink_name']] = drinks.apply(lambda row: row.choice_description[1:-1], axis=1)\n",
        "drinks.loc[:, ['sum']] = df.apply(lambda row: float(row.item_price[1:]), axis=1)\n",
        "\n",
        "print(drinks.drink_name.unique())\n",
        "\n",
        "most_popular = str(drinks.drink_name.mode()[0])\n",
        "\n",
        "print(most_popular)\n",
        "\n",
        "popular_df = drinks[drinks.drink_name == most_popular];\n",
        "\n",
        "answer5 = popular_df[['sum']].sum()\n",
        "\n",
        "print(answer5)"
      ]
    },
    {
      "cell_type": "markdown",
      "id": "fd33327f",
      "metadata": {
        "id": "fd33327f"
      },
      "source": [
        "##### 9. Ответьте на вопрос и сохраните ответ в переменной `answer6` (0.5 балл)\n",
        "\n",
        "Вопросы:\n",
        "1. Какой суммарный доход принесли напитки в заказах вегетарианцев?\n",
        "2. Для пары городов из предыдущего вопроса найдите 3 авиакомпании, которые перевезли больше всего пассажиров. Посчитайте, какой процент от общего пассажиропотока между этими городами перевезла каждая из трех авиакомпаний. В `answer6` запишите найденные проценты в виде списка из трех чисел, округлив их до двух знаков после запятой.\n",
        "3. Найдити самый опасный продукт, содержащий наибольшее количество аллергенов."
      ]
    },
    {
      "cell_type": "code",
      "execution_count": 35,
      "id": "b5e8cc08",
      "metadata": {
        "id": "b5e8cc08",
        "outputId": "d3c1011c-b490-4116-feab-fd8dd63ccb8c",
        "colab": {
          "base_uri": "https://localhost:8080/",
          "height": 0
        }
      },
      "outputs": [
        {
          "output_type": "stream",
          "name": "stdout",
          "text": [
            "{512, 668, 1312, 1155, 801, 1635, 1094, 1706, 1132, 1294, 1263, 1532, 1395, 567, 1208, 985, 348, 1049}\n",
            "7.18\n"
          ]
        }
      ],
      "source": [
        "drinks = df[(df.item_name == 'Canned Soda') | (df.item_name == 'Canned Soft Drink') | (df.item_name == '6 Pack Soft Drink')]\n",
        "\n",
        "drinks.loc[:, ['drink_name']] = drinks.apply(lambda row: row.choice_description[1:-1], axis=1)\n",
        "# drinks.loc[:, ['sum']] = df.apply(lambda row: row.quantity * float(row.item_price[1:]), axis=1)\n",
        "drinks.loc[:, ['sum']] = df.apply(lambda row: float(row.item_price[1:]), axis=1)\n",
        "\n",
        "# не вегетерианские блюда и не напитки\n",
        "not_veggie_df = df[(df.item_name != 'Canned Soda') & (df.item_name != 'Canned Soft Drink') & (df.item_name != '6 Pack Soft Drink') & (df.item_name.str.contains(\"Veggie\") == False)]\n",
        "# только вегетерианские блюда\n",
        "veggie_df = df[df.item_name.str.contains(\"Veggie\")]\n",
        "\n",
        "# вычисляем только вегетерианские заказы\n",
        "orders = set(df.order_id)\n",
        "not_veggie_orders = set(not_veggie_df.order_id)\n",
        "only_veggie_orders = set(veggie_df.order_id)\n",
        "veggie_orders = set(orders - not_veggie_orders) & only_veggie_orders\n",
        "\n",
        "print(veggie_orders)\n",
        "\n",
        "# другой вариант - выбрать те заказы где были вегетерианские блюда (не понимаю точно что подразумевалось в вопросе)\n",
        "# veggie_df = df[df.item_name.str.contains(\"Veggie\")]\n",
        "\n",
        "# # print(veggie_df.item_name.unique())\n",
        "\n",
        "# veggie_orders = list(veggie_df.order_id)\n",
        "\n",
        "# print(veggie_orders)\n",
        "\n",
        "# только напитки которые в вегетерианских заказах\n",
        "veggie_drinks = drinks[drinks.order_id.isin(veggie_orders)]\n",
        "\n",
        "# print(veggie_drinks)\n",
        "\n",
        "answer6 = veggie_drinks['sum'].sum()\n",
        "\n",
        "print(answer6)"
      ]
    },
    {
      "cell_type": "markdown",
      "id": "b0c39d4b",
      "metadata": {
        "id": "b0c39d4b"
      },
      "source": [
        "##### 10. Ответьте на вопрос и сохраните ответ в переменной `answer7` (0.5 балл)\n",
        "\n",
        "Вопросы:\n",
        "1. Сколько было сделано вегетарианских заказов? Заказ не считается вегетарианским, если в нем были не вегетарианские блюда.\n",
        "2. Для каждой страны найдите процент международного пассажиропотока (относительно США), используя общее количество пассажиров на рейсах класса F. В `answer7` запишите название страны с третьим по величине пассажиропотоком в/из США.\n",
        "3. Переведите названия групп продуктов (`pnns_groups_1`, `pnns_groups_2`) в нижний регистр. В переменную `answer7` запишите список, содержащий три элемента: название группы продуктов 1, название группы продуктов 2 и среднее количество пищевых волокон (fiber) для седьмой по насыщенности пищевыми волокнами группы продуктов."
      ]
    },
    {
      "cell_type": "code",
      "execution_count": 51,
      "id": "2ad348d2",
      "metadata": {
        "id": "2ad348d2",
        "outputId": "3f5ddb4e-86cc-4a1e-c355-faf24f3b8fda",
        "colab": {
          "base_uri": "https://localhost:8080/",
          "height": 0
        }
      },
      "outputs": [
        {
          "output_type": "stream",
          "name": "stdout",
          "text": [
            "{512, 668, 1312, 1155, 801, 1635, 1094, 1706, 1132, 1294, 1263, 1532, 1395, 567, 1208, 985, 348, 1049}\n",
            "18\n"
          ]
        }
      ],
      "source": [
        "# не вегетерианские блюда и не напитки\n",
        "not_veggie_df = df[(df.item_name != 'Canned Soda') & (df.item_name != 'Canned Soft Drink') & (df.item_name != '6 Pack Soft Drink') & (df.item_name.str.contains(\"Veggie\") == False)]\n",
        "# только вегетерианские блюда\n",
        "veggie_df = df[df.item_name.str.contains(\"Veggie\")]\n",
        "\n",
        "# вычисляем только вегетерианские заказы\n",
        "orders = set(df.order_id)\n",
        "not_veggie_orders = set(not_veggie_df.order_id)\n",
        "only_veggie_orders = set(veggie_df.order_id)\n",
        "veggie_orders = set(orders - not_veggie_orders) & only_veggie_orders\n",
        "\n",
        "print(veggie_orders)\n",
        "\n",
        "answer7 = len(veggie_orders) # Place your code here instead of '...'\n",
        "\n",
        "print(answer7)"
      ]
    },
    {
      "cell_type": "markdown",
      "id": "d86bf7a9",
      "metadata": {
        "id": "d86bf7a9"
      },
      "source": [
        "##### 11. Ответьте на вопрос и сохраните ответ в переменной `answer8` (1 балл)\n",
        "\n",
        "Вопросы:\n",
        "1. Какой соус или дополнительный ингредиент по выбору (`choice_description`) чаще всего берут вместе с буррито с курицей (Chicken Burrito)?\n",
        "2. В каком месяце пассажиропоток между городами, записанными в переменную `answer5`, был максимальным?\n",
        "3. Какое название у группы продуктов `pnns_groups_2`, являющейся наиболее сбалансированной с точки зрения среднего содержания белков, жиров и углеводов? Под \"сбалансированной\" понимать близость БЖУ к пропорции 1:1:4."
      ]
    },
    {
      "cell_type": "code",
      "execution_count": 14,
      "id": "6fb6af7c",
      "metadata": {
        "colab": {
          "base_uri": "https://localhost:8080/",
          "height": 0
        },
        "id": "6fb6af7c",
        "outputId": "4f0a88cb-ba81-409b-9cfa-a53c31bbd736"
      },
      "outputs": [
        {
          "output_type": "stream",
          "name": "stdout",
          "text": [
            "2947\n",
            "0    Tomatillo-Green Chili Salsa (Medium)\n",
            "1                             Pinto Beans\n",
            "2                                  Cheese\n",
            "3                              Sour Cream\n",
            "4               Fresh Tomato Salsa (Mild)\n",
            "Name: adds, dtype: object\n",
            "adds\n",
            "Rice                                    509\n",
            "Cheese                                  462\n",
            "Sour Cream                              336\n",
            "Lettuce                                 329\n",
            "Black Beans                             282\n",
            "Fresh Tomato Salsa                      208\n",
            "Guacamole                               180\n",
            "Pinto Beans                             105\n",
            "Fajita Vegetables                        97\n",
            "Tomatillo Red Chili Salsa                72\n",
            "Fajita Veggies                           68\n",
            "Roasted Chili Corn Salsa                 67\n",
            "Fresh Tomato Salsa (Mild)                57\n",
            "Tomatillo-Red Chili Salsa (Hot)          47\n",
            "Roasted Chili Corn Salsa (Medium)        45\n",
            "Tomatillo Green Chili Salsa              40\n",
            "Tomatillo-Green Chili Salsa (Medium)     34\n",
            "Fresh Tomato (Mild)                       6\n",
            "Tomatillo Red Chili (Hot)                 1\n",
            "Tomatillo Green Chili (Medium)            1\n",
            "Roasted Chili Corn (Medium)               1\n",
            "Name: count, dtype: int64\n",
            "Rice\n"
          ]
        }
      ],
      "source": [
        "burrito_df = df[df.item_name == \"Chicken Burrito\"]\n",
        "\n",
        "# добавляем столбец со списками добавок, удаляя резделители и обрезая\n",
        "burrito_df.loc[:, [\"adds\"]] = burrito_df.apply(lambda r: list(map(str.strip, str(r.choice_description).replace(\"[\", \"\").replace(\"]\", \"\").split(','))), axis=1)\n",
        "\n",
        "# взрываем списки в отдельный Series\n",
        "unwrapped = burrito_df[\"adds\"].explode(ignore_index=True)\n",
        "\n",
        "print(unwrapped.size)\n",
        "print(unwrapped.head())\n",
        "\n",
        "# для наглядности подсчитаем значения\n",
        "counts = unwrapped.value_counts()\n",
        "\n",
        "print(counts)\n",
        "\n",
        "# мода - самая популярная добавка\n",
        "answer8 = unwrapped.mode()[0];\n",
        "\n",
        "print(answer8)"
      ]
    },
    {
      "cell_type": "markdown",
      "id": "1724764c",
      "metadata": {
        "id": "1724764c"
      },
      "source": [
        "##### 12. Визуализируйте данные в соответствии с заданием (1 балл)\n",
        "\n",
        "1. Постройте гистограмму распределения общей стоимости заказов. Найти и отметить на графике средний чек и медианную стоимость заказа.\n",
        "2. Постройте стековую столбчатую гистограмму пассажиропотока с разбивкой по городам (отдельные столбцы) и авиакомпаниям (разбивка внутри столбца).\n",
        "3. Постройте столбчатую гистограмму усредненной по группам продуктов энергетической ценности, с группировкой по `pnns_groups_1`.\n"
      ]
    },
    {
      "cell_type": "code",
      "execution_count": 55,
      "id": "ceb2757d",
      "metadata": {
        "id": "ceb2757d",
        "outputId": "d15c4987-2f9c-468e-82db-90392dbd1707",
        "colab": {
          "base_uri": "https://localhost:8080/",
          "height": 762
        }
      },
      "outputs": [
        {
          "output_type": "stream",
          "name": "stdout",
          "text": [
            "   order_id    sum\n",
            "0         1   2.39\n",
            "1         1   3.39\n",
            "2         1   3.39\n",
            "3         1   2.39\n",
            "4         2  16.98\n",
            "             sum\n",
            "order_id        \n",
            "926       205.25\n",
            "1443      160.74\n",
            "1483      139.00\n",
            "691       118.25\n",
            "1786      114.30\n",
            "1834\n",
            "195.17\n",
            "18.811428571428575\n"
          ]
        },
        {
          "output_type": "display_data",
          "data": {
            "text/plain": [
              "<Figure size 640x480 with 1 Axes>"
            ],
            "image/png": "[encoded data removed]"
          },
          "metadata": {}
        }
      ],
      "source": [
        "import matplotlib.pyplot as plt\n",
        "\n",
        "orders = df.copy()\n",
        "\n",
        "orders.loc[:, ['sum']] = df.apply(lambda row: float(row.item_price[1:]), axis=1)\n",
        "\n",
        "orders = orders[[\"order_id\", \"sum\"]];\n",
        "\n",
        "print(orders.head())\n",
        "\n",
        "orders = orders.groupby([\"order_id\"]).sum()\n",
        "\n",
        "orders = pd.DataFrame(orders)\n",
        "\n",
        "orders = orders.sort_values([\"sum\"], ascending=False)\n",
        "\n",
        "print(orders.head())\n",
        "\n",
        "min = orders[\"sum\"].min();\n",
        "max = orders[\"sum\"].max();\n",
        "\n",
        "diff = max - min;\n",
        "\n",
        "print(orders.size)\n",
        "print(diff)\n",
        "\n",
        "# рисуем гистограмму - деление по x 2 доллара\n",
        "plt.hist(orders['sum'], color = 'blue', edgecolor = 'black',\n",
        "         bins = int(diff/2))\n",
        "\n",
        "plt.yscale('log')\n",
        "plt.title('Гистограмма распределения стоимости заказов')\n",
        "plt.xlabel('Общая стоимость, $')\n",
        "plt.ylabel('Кол-во заказов')\n",
        "\n",
        "avg_check = orders[\"sum\"].mean()\n",
        "\n",
        "print(avg_check)\n",
        "\n",
        "plt.axvline(avg_check, color='red', linewidth=1, label=f\"Средний чек {avg_check}\")\n",
        "plt.axvline(orders[\"sum\"].median(), color='orange', linewidth=1, label=f\"Медианная стоимость {(orders.sum.median())}\")\n",
        "\n",
        "plt.legend()\n",
        "plt.show()\n"
      ]
    }
  ],
  "metadata": {
    "kernelspec": {
      "display_name": "Python [conda env:base] *",
      "language": "python",
      "name": "conda-base-py"
    },
    "language_info": {
      "codemirror_mode": {
        "name": "ipython",
        "version": 3
      },
      "file_extension": ".py",
      "mimetype": "text/x-python",
      "name": "python",
      "nbconvert_exporter": "python",
      "pygments_lexer": "ipython3",
      "version": "3.12.7"
    },
    "colab": {
      "provenance": []
    }
  },
  "nbformat": 4,
  "nbformat_minor": 5
}